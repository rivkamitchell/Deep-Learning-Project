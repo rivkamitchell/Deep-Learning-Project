{
 "cells": [
  {
   "cell_type": "code",
   "execution_count": 1,
   "metadata": {},
   "outputs": [],
   "source": [
    "import torch\n",
    "import torch.nn as nn\n",
    "import torchvision\n",
    "from torchvision.transforms import Compose, ToTensor, Normalize\n",
    "import numpy as np\n",
    "import seaborn as sns\n",
    "from random import choice\n",
    "import math"
   ]
  },
  {
   "cell_type": "code",
   "execution_count": 18,
   "metadata": {},
   "outputs": [],
   "source": [
    "def output_func(x):\n",
    "    if np.sum(np.matmul(x,np.transpose(x))) >= math.sqrt(2/math.pi):\n",
    "        return [0,1]\n",
    "    else:\n",
    "        return [1,0]"
   ]
  },
  {
   "cell_type": "code",
   "execution_count": 19,
   "metadata": {},
   "outputs": [],
   "source": [
    "x = [np.random.uniform(low = 0, high = 1, size = 2) for i in range(1000)]\n",
    "y = [output_func(u) for u in x]\n",
    "data = [[torch.Tensor(x[i]).to('cuda:1'), torch.Tensor(y[i]).to('cuda:1')] for i in range(1000)]"
   ]
  },
  {
   "cell_type": "code",
   "execution_count": 22,
   "metadata": {},
   "outputs": [],
   "source": [
    "dim_x, dim_y, dim_h, N = 2, 2, 4, 100\n",
    "\n",
    "class Base(nn.Module):\n",
    "    def __init__(self):\n",
    "        super(Base, self).__init__()\n",
    "        self.l1 = nn.Linear(dim_x, dim_h, bias = False)\n",
    "        self.l2 = nn.Linear(dim_h, dim_y, bias = False)\n",
    "    def forward(self, x):\n",
    "        return (self.l2(torch.sigmoid(self.l1(x))))\n",
    "    \n",
    "class Model(nn.Module):\n",
    "    def __init__(self, N):\n",
    "        super(Model, self).__init__()\n",
    "        self.layers = nn.ModuleList([Base() for i in range(N)])\n",
    "    def forward(self, x):\n",
    "        s = 0 \n",
    "        for net in self.layers:\n",
    "            s += net(x)\n",
    "        return s/len(self.layers)"
   ]
  },
  {
   "cell_type": "code",
   "execution_count": 23,
   "metadata": {},
   "outputs": [
    {
     "name": "stdout",
     "output_type": "stream",
     "text": [
      "0 : tensor(0.4880, device='cuda:1', grad_fn=<MseLossBackward0>)\n",
      "1000 : tensor(0.1991, device='cuda:1', grad_fn=<MseLossBackward0>)\n",
      "2000 : tensor(0.3676, device='cuda:1', grad_fn=<MseLossBackward0>)\n",
      "3000 : tensor(0.3997, device='cuda:1', grad_fn=<MseLossBackward0>)\n",
      "4000 : tensor(0.1403, device='cuda:1', grad_fn=<MseLossBackward0>)\n",
      "5000 : tensor(0.1293, device='cuda:1', grad_fn=<MseLossBackward0>)\n",
      "6000 : tensor(0.3723, device='cuda:1', grad_fn=<MseLossBackward0>)\n",
      "7000 : tensor(0.3957, device='cuda:1', grad_fn=<MseLossBackward0>)\n",
      "8000 : tensor(0.1402, device='cuda:1', grad_fn=<MseLossBackward0>)\n",
      "9000 : tensor(0.3846, device='cuda:1', grad_fn=<MseLossBackward0>)\n",
      "0\n",
      "Hidden Layer N is completed.\n",
      "0 : tensor(0.4697, device='cuda:1', grad_fn=<MseLossBackward0>)\n",
      "1000 : tensor(0.4165, device='cuda:1', grad_fn=<MseLossBackward0>)\n",
      "2000 : tensor(0.3703, device='cuda:1', grad_fn=<MseLossBackward0>)\n",
      "3000 : tensor(0.3350, device='cuda:1', grad_fn=<MseLossBackward0>)\n",
      "4000 : tensor(0.4064, device='cuda:1', grad_fn=<MseLossBackward0>)\n",
      "5000 : tensor(0.2753, device='cuda:1', grad_fn=<MseLossBackward0>)\n",
      "6000 : tensor(0.2577, device='cuda:1', grad_fn=<MseLossBackward0>)\n",
      "7000 : tensor(0.2377, device='cuda:1', grad_fn=<MseLossBackward0>)\n",
      "8000 : tensor(0.2213, device='cuda:1', grad_fn=<MseLossBackward0>)\n",
      "9000 : tensor(0.2087, device='cuda:1', grad_fn=<MseLossBackward0>)\n",
      "10000 : tensor(0.1982, device='cuda:1', grad_fn=<MseLossBackward0>)\n",
      "11000 : tensor(0.3747, device='cuda:1', grad_fn=<MseLossBackward0>)\n",
      "12000 : tensor(0.1818, device='cuda:1', grad_fn=<MseLossBackward0>)\n",
      "13000 : tensor(0.1725, device='cuda:1', grad_fn=<MseLossBackward0>)\n",
      "14000 : tensor(0.3778, device='cuda:1', grad_fn=<MseLossBackward0>)\n",
      "15000 : tensor(0.3791, device='cuda:1', grad_fn=<MseLossBackward0>)\n",
      "16000 : tensor(0.1597, device='cuda:1', grad_fn=<MseLossBackward0>)\n",
      "17000 : tensor(0.1550, device='cuda:1', grad_fn=<MseLossBackward0>)\n",
      "18000 : tensor(0.3794, device='cuda:1', grad_fn=<MseLossBackward0>)\n",
      "19000 : tensor(0.1486, device='cuda:1', grad_fn=<MseLossBackward0>)\n",
      "20000 : tensor(0.3856, device='cuda:1', grad_fn=<MseLossBackward0>)\n",
      "21000 : tensor(0.1439, device='cuda:1', grad_fn=<MseLossBackward0>)\n",
      "22000 : tensor(0.1439, device='cuda:1', grad_fn=<MseLossBackward0>)\n",
      "23000 : tensor(0.3890, device='cuda:1', grad_fn=<MseLossBackward0>)\n",
      "24000 : tensor(0.1397, device='cuda:1', grad_fn=<MseLossBackward0>)\n",
      "25000 : tensor(0.1390, device='cuda:1', grad_fn=<MseLossBackward0>)\n",
      "26000 : tensor(0.3923, device='cuda:1', grad_fn=<MseLossBackward0>)\n",
      "27000 : tensor(0.1361, device='cuda:1', grad_fn=<MseLossBackward0>)\n",
      "28000 : tensor(0.4007, device='cuda:1', grad_fn=<MseLossBackward0>)\n",
      "29000 : tensor(0.1330, device='cuda:1', grad_fn=<MseLossBackward0>)\n",
      "30000 : tensor(0.3946, device='cuda:1', grad_fn=<MseLossBackward0>)\n",
      "31000 : tensor(0.3869, device='cuda:1', grad_fn=<MseLossBackward0>)\n",
      "32000 : tensor(0.1343, device='cuda:1', grad_fn=<MseLossBackward0>)\n",
      "33000 : tensor(0.1383, device='cuda:1', grad_fn=<MseLossBackward0>)\n",
      "34000 : tensor(0.1374, device='cuda:1', grad_fn=<MseLossBackward0>)\n",
      "35000 : tensor(0.1373, device='cuda:1', grad_fn=<MseLossBackward0>)\n",
      "36000 : tensor(0.1334, device='cuda:1', grad_fn=<MseLossBackward0>)\n",
      "37000 : tensor(0.3913, device='cuda:1', grad_fn=<MseLossBackward0>)\n",
      "38000 : tensor(0.1341, device='cuda:1', grad_fn=<MseLossBackward0>)\n",
      "39000 : tensor(0.1346, device='cuda:1', grad_fn=<MseLossBackward0>)\n",
      "40000 : tensor(0.1355, device='cuda:1', grad_fn=<MseLossBackward0>)\n",
      "41000 : tensor(0.1344, device='cuda:1', grad_fn=<MseLossBackward0>)\n",
      "42000 : tensor(0.1347, device='cuda:1', grad_fn=<MseLossBackward0>)\n",
      "43000 : tensor(0.3928, device='cuda:1', grad_fn=<MseLossBackward0>)\n",
      "44000 : tensor(0.1348, device='cuda:1', grad_fn=<MseLossBackward0>)\n",
      "45000 : tensor(0.3951, device='cuda:1', grad_fn=<MseLossBackward0>)\n",
      "46000 : tensor(0.1334, device='cuda:1', grad_fn=<MseLossBackward0>)\n",
      "47000 : tensor(0.1323, device='cuda:1', grad_fn=<MseLossBackward0>)\n",
      "48000 : tensor(0.3979, device='cuda:1', grad_fn=<MseLossBackward0>)\n",
      "49000 : tensor(0.1298, device='cuda:1', grad_fn=<MseLossBackward0>)\n",
      "50000 : tensor(0.1308, device='cuda:1', grad_fn=<MseLossBackward0>)\n",
      "51000 : tensor(0.1310, device='cuda:1', grad_fn=<MseLossBackward0>)\n",
      "52000 : tensor(0.3990, device='cuda:1', grad_fn=<MseLossBackward0>)\n",
      "53000 : tensor(0.1294, device='cuda:1', grad_fn=<MseLossBackward0>)\n",
      "54000 : tensor(0.4036, device='cuda:1', grad_fn=<MseLossBackward0>)\n",
      "55000 : tensor(0.1263, device='cuda:1', grad_fn=<MseLossBackward0>)\n",
      "56000 : tensor(0.1306, device='cuda:1', grad_fn=<MseLossBackward0>)\n",
      "57000 : tensor(0.1336, device='cuda:1', grad_fn=<MseLossBackward0>)\n",
      "58000 : tensor(0.1259, device='cuda:1', grad_fn=<MseLossBackward0>)\n",
      "59000 : tensor(0.1326, device='cuda:1', grad_fn=<MseLossBackward0>)\n",
      "60000 : tensor(0.4039, device='cuda:1', grad_fn=<MseLossBackward0>)\n",
      "61000 : tensor(0.1256, device='cuda:1', grad_fn=<MseLossBackward0>)\n",
      "62000 : tensor(0.1383, device='cuda:1', grad_fn=<MseLossBackward0>)\n",
      "63000 : tensor(0.1206, device='cuda:1', grad_fn=<MseLossBackward0>)\n",
      "64000 : tensor(0.1300, device='cuda:1', grad_fn=<MseLossBackward0>)\n",
      "65000 : tensor(0.1336, device='cuda:1', grad_fn=<MseLossBackward0>)\n",
      "66000 : tensor(0.4019, device='cuda:1', grad_fn=<MseLossBackward0>)\n",
      "67000 : tensor(0.1315, device='cuda:1', grad_fn=<MseLossBackward0>)\n",
      "68000 : tensor(0.1222, device='cuda:1', grad_fn=<MseLossBackward0>)\n",
      "69000 : tensor(0.1218, device='cuda:1', grad_fn=<MseLossBackward0>)\n",
      "70000 : tensor(0.3836, device='cuda:1', grad_fn=<MseLossBackward0>)\n",
      "71000 : tensor(0.3895, device='cuda:1', grad_fn=<MseLossBackward0>)\n",
      "72000 : tensor(0.1318, device='cuda:1', grad_fn=<MseLossBackward0>)\n",
      "73000 : tensor(0.4024, device='cuda:1', grad_fn=<MseLossBackward0>)\n",
      "74000 : tensor(0.4033, device='cuda:1', grad_fn=<MseLossBackward0>)\n",
      "75000 : tensor(0.1236, device='cuda:1', grad_fn=<MseLossBackward0>)\n",
      "76000 : tensor(0.1341, device='cuda:1', grad_fn=<MseLossBackward0>)\n",
      "77000 : tensor(0.1230, device='cuda:1', grad_fn=<MseLossBackward0>)\n",
      "78000 : tensor(0.1319, device='cuda:1', grad_fn=<MseLossBackward0>)\n",
      "79000 : tensor(0.1336, device='cuda:1', grad_fn=<MseLossBackward0>)\n",
      "80000 : tensor(0.3971, device='cuda:1', grad_fn=<MseLossBackward0>)\n",
      "81000 : tensor(0.1253, device='cuda:1', grad_fn=<MseLossBackward0>)\n",
      "82000 : tensor(0.3818, device='cuda:1', grad_fn=<MseLossBackward0>)\n",
      "83000 : tensor(0.3840, device='cuda:1', grad_fn=<MseLossBackward0>)\n",
      "84000 : tensor(0.3828, device='cuda:1', grad_fn=<MseLossBackward0>)\n",
      "85000 : tensor(0.1227, device='cuda:1', grad_fn=<MseLossBackward0>)\n",
      "86000 : tensor(0.1316, device='cuda:1', grad_fn=<MseLossBackward0>)\n",
      "87000 : tensor(0.1305, device='cuda:1', grad_fn=<MseLossBackward0>)\n",
      "88000 : tensor(0.1399, device='cuda:1', grad_fn=<MseLossBackward0>)\n",
      "89000 : tensor(0.1320, device='cuda:1', grad_fn=<MseLossBackward0>)\n",
      "90000 : tensor(0.1312, device='cuda:1', grad_fn=<MseLossBackward0>)\n",
      "91000 : tensor(0.3705, device='cuda:1', grad_fn=<MseLossBackward0>)\n",
      "92000 : tensor(0.1307, device='cuda:1', grad_fn=<MseLossBackward0>)\n",
      "93000 : tensor(0.1317, device='cuda:1', grad_fn=<MseLossBackward0>)\n",
      "94000 : tensor(0.1266, device='cuda:1', grad_fn=<MseLossBackward0>)\n",
      "95000 : tensor(0.1321, device='cuda:1', grad_fn=<MseLossBackward0>)\n",
      "96000 : tensor(0.3746, device='cuda:1', grad_fn=<MseLossBackward0>)\n",
      "97000 : tensor(0.1298, device='cuda:1', grad_fn=<MseLossBackward0>)\n",
      "98000 : tensor(0.1345, device='cuda:1', grad_fn=<MseLossBackward0>)\n",
      "99000 : tensor(0.3817, device='cuda:1', grad_fn=<MseLossBackward0>)\n",
      "0\n",
      "Hidden Layer N is completed.\n"
     ]
    },
    {
     "data": {
      "image/png": "[encoded data removed]",
      "text/plain": [
       "<Figure size 360x360 with 1 Axes>"
      ]
     },
     "metadata": {
      "needs_background": "light"
     },
     "output_type": "display_data"
    },
    {
     "data": {
      "image/png": "[encoded data removed]",
      "text/plain": [
       "<Figure size 360x360 with 1 Axes>"
      ]
     },
     "metadata": {
      "needs_background": "light"
     },
     "output_type": "display_data"
    }
   ],
   "source": [
    "N_options = [10, 100]\n",
    "t = 1000\n",
    "\n",
    "for n in N_options:\n",
    "    N=n\n",
    "    model = Model(N)\n",
    "    model.to('cuda:1')\n",
    "    criterion = nn.MSELoss().to('cuda:1')\n",
    "    optimizer = torch.optim.SGD(model.parameters(), lr = 0.01)\n",
    "    for epoch in range (t*N):\n",
    "        data_point = choice(data)\n",
    "        inp = data_point[0]\n",
    "        y = data_point[1]\n",
    "        loss = criterion(model(inp), y)\n",
    "        loss.backward()\n",
    "        optimizer.step()\n",
    "        optimizer.zero_grad()\n",
    "        \n",
    "        if epoch%1000 == 0:\n",
    "            print(epoch, \":\", loss)\n",
    "            \n",
    "    parameters = []\n",
    "    j = 0\n",
    "    for m in model.modules():\n",
    "        if isinstance(m, nn.Linear):\n",
    "            a = m.weight.reshape(-1)\n",
    "            for i in range(len(a)):\n",
    "                parameters.append(float(a[i].data))\n",
    "            if j%1000 == 0:\n",
    "                print(j)\n",
    "            j+=1\n",
    "    \n",
    "    ax = sns.displot(parameters, stat = 'probability', kde = False)\n",
    "    hidden_layers = str(N)\n",
    "    ax.savefig(\"Sigmoid Sim Dataset: N=%s.png\" % hidden_layers)\n",
    "    print(\"Hidden Layer N is completed.\")"
   ]
  },
  {
   "cell_type": "code",
   "execution_count": null,
   "metadata": {},
   "outputs": [],
   "source": []
  }
 ],
 "metadata": {
  "kernelspec": {
   "display_name": "Python 3 (ipykernel)",
   "language": "python",
   "name": "python3"
  },
  "language_info": {
   "codemirror_mode": {
    "name": "ipython",
    "version": 3
   },
   "file_extension": ".py",
   "mimetype": "text/x-python",
   "name": "python",
   "nbconvert_exporter": "python",
   "pygments_lexer": "ipython3",
   "version": "3.11.3"
  }
 },
 "nbformat": 4,
 "nbformat_minor": 4
}
