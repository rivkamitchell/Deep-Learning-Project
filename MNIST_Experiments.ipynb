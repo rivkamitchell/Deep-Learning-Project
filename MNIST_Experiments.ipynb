{
 "cells": [
  {
   "cell_type": "code",
   "execution_count": 1,
   "metadata": {},
   "outputs": [],
   "source": [
    "import torch\n",
    "import torch.nn as nn\n",
    "import torchvision\n",
    "from torchvision.transforms import Compose, ToTensor, Normalize\n",
    "import numpy as np\n",
    "import seaborn as sn\n",
    "from random import choice"
   ]
  },
  {
   "cell_type": "code",
   "execution_count": 2,
   "metadata": {
    "scrolled": true
   },
   "outputs": [],
   "source": [
    "train_loader = torch.utils.data.DataLoader(\n",
    "    torchvision.datasets.MNIST(root ='./files', train=True, download = True, \n",
    "         transform = Compose([\n",
    "             ToTensor(),\n",
    "             Normalize(\n",
    "                 (0.1307,), (0.3081,))\n",
    "         ])),\n",
    "    batch_size = 1, shuffle = True)"
   ]
  },
  {
   "cell_type": "code",
   "execution_count": 5,
   "metadata": {},
   "outputs": [],
   "source": [
    "examples = enumerate(train_loader)\n",
    "data = []\n",
    "for batch_idx, (in_features, out_features) in examples:\n",
    "    zero = np.zeros(10)\n",
    "    zero[out_features.numpy()[0]] = 1\n",
    "    data.append([in_features.numpy().reshape(-1), zero])\n",
    "\n",
    "for i in range(len(data)):\n",
    "    data[i] = [torch.Tensor(data[i][0]).to('cuda:2'), torch.Tensor(data[i][1]).to('cuda:2')]\n",
    "    "
   ]
  },
  {
   "cell_type": "code",
   "execution_count": 6,
   "metadata": {},
   "outputs": [],
   "source": [
    "dim_x, dim_y, dim_h, N = 28*28, 10, 10, 100\n",
    "\n",
    "class Base(nn.Module):\n",
    "    def __init__(self):\n",
    "        super(Base, self).__init__()\n",
    "        self.l1 = nn.Linear(dim_x, dim_h, bias = False)\n",
    "        self.l2 = nn.Linear(dim_h, dim_y, bias = False)\n",
    "    def forward(self, x):\n",
    "        return (self.l2(nn.functional.softmax(self.l1(x))))\n",
    "    \n",
    "class Model(nn.Module):\n",
    "    def __init__(self, N):\n",
    "        super(Model, self).__init__()\n",
    "        self.layers = nn.ModuleList([Base() for i in range(N)])\n",
    "    def forward(self, x):\n",
    "        s = 0 \n",
    "        for net in self.layers:\n",
    "            s += net(x)\n",
    "        return s/len(self.layers)"
   ]
  },
  {
   "cell_type": "code",
   "execution_count": null,
   "metadata": {},
   "outputs": [
    {
     "name": "stderr",
     "output_type": "stream",
     "text": [
      "<ipython-input-6-330f97fb0baf>:9: UserWarning: Implicit dimension choice for softmax has been deprecated. Change the call to include dim=X as an argument.\n",
      "  return (self.l2(nn.functional.softmax(self.l1(x))))\n"
     ]
    },
    {
     "name": "stdout",
     "output_type": "stream",
     "text": [
      "0 : tensor(0.1053, device='cuda:2', grad_fn=<MseLossBackward0>)\n",
      "0\n",
      "Hidden Layer N is completed.\n",
      "0 : tensor(0.0985, device='cuda:2', grad_fn=<MseLossBackward0>)\n"
     ]
    },
    {
     "name": "stderr",
     "output_type": "stream",
     "text": [
      "<ipython-input-6-330f97fb0baf>:9: UserWarning: Implicit dimension choice for softmax has been deprecated. Change the call to include dim=X as an argument.\n",
      "  return (self.l2(nn.functional.softmax(self.l1(x))))\n"
     ]
    },
    {
     "name": "stdout",
     "output_type": "stream",
     "text": [
      "0\n",
      "Hidden Layer N is completed.\n"
     ]
    },
    {
     "name": "stderr",
     "output_type": "stream",
     "text": [
      "<ipython-input-6-330f97fb0baf>:9: UserWarning: Implicit dimension choice for softmax has been deprecated. Change the call to include dim=X as an argument.\n",
      "  return (self.l2(nn.functional.softmax(self.l1(x))))\n"
     ]
    },
    {
     "name": "stdout",
     "output_type": "stream",
     "text": [
      "0 : tensor(0.0995, device='cuda:2', grad_fn=<MseLossBackward0>)\n"
     ]
    }
   ],
   "source": [
    "\n",
    "N_options = [10, 100, 1000, 10000]\n",
    "t = 1\n",
    "\n",
    "for n in N_options:\n",
    "    N=n\n",
    "    model = Model(N)\n",
    "    model.to('cuda:2')\n",
    "    criterion = nn.MSELoss().to('cuda:2')\n",
    "    optimizer = torch.optim.SGD(model.parameters(), lr = 0.01)\n",
    "    for epoch in range (t*N):\n",
    "        data_point = choice(data)\n",
    "        x = data_point[0]\n",
    "        y = data_point[1]\n",
    "        loss = criterion(model(x), y)\n",
    "        loss.backward()\n",
    "        optimizer.step()\n",
    "        optimizer.zero_grad()\n",
    "        \n",
    "        if epoch%1000 == 0:\n",
    "            print(epoch, \":\", loss)\n",
    "            \n",
    "    parameters = []\n",
    "    j = 0\n",
    "    for m in model.modules():\n",
    "        if isinstance(m, nn.Linear):\n",
    "            a = m.weight.reshape(-1)\n",
    "            for i in range(len(a)):\n",
    "                parameters.append(float(a[i].data))\n",
    "            if j%1000 == 0:\n",
    "                print(j)\n",
    "            j+=1\n",
    "    \n",
    "    ax = sn.displot(parameters, stat = 'density', kde = False)\n",
    "    hidden_layers = str(N)\n",
    "    ax.savefig(\"Density: N=%s,t= 1.png\" % hidden_layers)\n",
    "    print(\"Hidden Layer N is completed.\")"
   ]
  },
  {
   "cell_type": "code",
   "execution_count": null,
   "metadata": {},
   "outputs": [],
   "source": []
  }
 ],
 "metadata": {
  "kernelspec": {
   "display_name": "Python 3 (ipykernel)",
   "language": "python",
   "name": "python3"
  },
  "language_info": {
   "codemirror_mode": {
    "name": "ipython",
    "version": 3
   },
   "file_extension": ".py",
   "mimetype": "text/x-python",
   "name": "python",
   "nbconvert_exporter": "python",
   "pygments_lexer": "ipython3",
   "version": "3.11.3"
  }
 },
 "nbformat": 4,
 "nbformat_minor": 4
}
