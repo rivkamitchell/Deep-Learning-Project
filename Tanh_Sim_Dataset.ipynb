{
 "cells": [
  {
   "cell_type": "code",
   "execution_count": 7,
   "metadata": {},
   "outputs": [],
   "source": [
    "import torch\n",
    "import torch.nn as nn\n",
    "import torchvision\n",
    "from torchvision.transforms import Compose, ToTensor, Normalize\n",
    "import numpy as np\n",
    "import seaborn as sns\n",
    "from random import choice\n",
    "import math"
   ]
  },
  {
   "cell_type": "code",
   "execution_count": 8,
   "metadata": {},
   "outputs": [],
   "source": [
    "def output_func(x):\n",
    "    if np.sum(np.matmul(x,np.transpose(x))) >= math.sqrt(2/math.pi):\n",
    "        return [0,1]\n",
    "    else:\n",
    "        return [1,0]"
   ]
  },
  {
   "cell_type": "code",
   "execution_count": 9,
   "metadata": {},
   "outputs": [],
   "source": [
    "x = [np.random.uniform(low = 0, high = 1, size = 2) for i in range(1000)]\n",
    "y = [output_func(u) for u in x]\n",
    "data = [[torch.Tensor(x[i]).to('cuda:1'), torch.Tensor(y[i]).to('cuda:1')] for i in range(1000)]"
   ]
  },
  {
   "cell_type": "code",
   "execution_count": 10,
   "metadata": {},
   "outputs": [],
   "source": [
    "dim_x, dim_y, dim_h, N = 2, 2, 4, 100\n",
    "\n",
    "class Base(nn.Module):\n",
    "    def __init__(self):\n",
    "        super(Base, self).__init__()\n",
    "        self.l1 = nn.Linear(dim_x, dim_h, bias = False)\n",
    "        self.l2 = nn.Linear(dim_h, dim_y, bias = False)\n",
    "    def forward(self, x):\n",
    "        return (self.l2(torch.tanh(self.l1(x))))\n",
    "    \n",
    "class Model(nn.Module):\n",
    "    def __init__(self, N):\n",
    "        super(Model, self).__init__()\n",
    "        self.layers = nn.ModuleList([Base() for i in range(N)])\n",
    "    def forward(self, x):\n",
    "        s = 0 \n",
    "        for net in self.layers:\n",
    "            s += net(x)\n",
    "        return s/len(self.layers)"
   ]
  },
  {
   "cell_type": "code",
   "execution_count": 12,
   "metadata": {},
   "outputs": [
    {
     "name": "stdout",
     "output_type": "stream",
     "text": [
      "0 : tensor(0.5006, device='cuda:1', grad_fn=<MseLossBackward0>)\n",
      "1000 : tensor(0.3019, device='cuda:1', grad_fn=<MseLossBackward0>)\n",
      "2000 : tensor(0.2397, device='cuda:1', grad_fn=<MseLossBackward0>)\n",
      "3000 : tensor(0.3439, device='cuda:1', grad_fn=<MseLossBackward0>)\n",
      "4000 : tensor(0.2462, device='cuda:1', grad_fn=<MseLossBackward0>)\n",
      "5000 : tensor(0.2546, device='cuda:1', grad_fn=<MseLossBackward0>)\n",
      "6000 : tensor(0.2561, device='cuda:1', grad_fn=<MseLossBackward0>)\n",
      "7000 : tensor(0.3405, device='cuda:1', grad_fn=<MseLossBackward0>)\n",
      "8000 : tensor(0.2532, device='cuda:1', grad_fn=<MseLossBackward0>)\n",
      "9000 : tensor(0.2637, device='cuda:1', grad_fn=<MseLossBackward0>)\n",
      "0\n",
      "Hidden Layer N is completed.\n",
      "0 : tensor(0.5129, device='cuda:1', grad_fn=<MseLossBackward0>)\n",
      "1000 : tensor(0.5009, device='cuda:1', grad_fn=<MseLossBackward0>)\n",
      "2000 : tensor(0.4847, device='cuda:1', grad_fn=<MseLossBackward0>)\n",
      "3000 : tensor(0.4723, device='cuda:1', grad_fn=<MseLossBackward0>)\n",
      "4000 : tensor(0.4459, device='cuda:1', grad_fn=<MseLossBackward0>)\n",
      "5000 : tensor(0.4625, device='cuda:1', grad_fn=<MseLossBackward0>)\n",
      "6000 : tensor(0.4204, device='cuda:1', grad_fn=<MseLossBackward0>)\n",
      "7000 : tensor(0.4447, device='cuda:1', grad_fn=<MseLossBackward0>)\n",
      "8000 : tensor(0.4155, device='cuda:1', grad_fn=<MseLossBackward0>)\n",
      "9000 : tensor(0.4001, device='cuda:1', grad_fn=<MseLossBackward0>)\n",
      "10000 : tensor(0.3650, device='cuda:1', grad_fn=<MseLossBackward0>)\n",
      "11000 : tensor(0.4514, device='cuda:1', grad_fn=<MseLossBackward0>)\n",
      "12000 : tensor(0.3141, device='cuda:1', grad_fn=<MseLossBackward0>)\n",
      "13000 : tensor(0.3769, device='cuda:1', grad_fn=<MseLossBackward0>)\n",
      "14000 : tensor(0.3956, device='cuda:1', grad_fn=<MseLossBackward0>)\n",
      "15000 : tensor(0.2764, device='cuda:1', grad_fn=<MseLossBackward0>)\n",
      "16000 : tensor(0.3986, device='cuda:1', grad_fn=<MseLossBackward0>)\n",
      "17000 : tensor(0.3944, device='cuda:1', grad_fn=<MseLossBackward0>)\n",
      "18000 : tensor(0.3522, device='cuda:1', grad_fn=<MseLossBackward0>)\n",
      "19000 : tensor(0.3324, device='cuda:1', grad_fn=<MseLossBackward0>)\n",
      "20000 : tensor(0.3089, device='cuda:1', grad_fn=<MseLossBackward0>)\n",
      "21000 : tensor(0.2461, device='cuda:1', grad_fn=<MseLossBackward0>)\n",
      "22000 : tensor(0.2738, device='cuda:1', grad_fn=<MseLossBackward0>)\n",
      "23000 : tensor(0.3252, device='cuda:1', grad_fn=<MseLossBackward0>)\n",
      "24000 : tensor(0.3112, device='cuda:1', grad_fn=<MseLossBackward0>)\n",
      "25000 : tensor(0.2798, device='cuda:1', grad_fn=<MseLossBackward0>)\n",
      "26000 : tensor(0.2641, device='cuda:1', grad_fn=<MseLossBackward0>)\n",
      "27000 : tensor(0.3540, device='cuda:1', grad_fn=<MseLossBackward0>)\n",
      "28000 : tensor(0.3925, device='cuda:1', grad_fn=<MseLossBackward0>)\n",
      "29000 : tensor(0.2777, device='cuda:1', grad_fn=<MseLossBackward0>)\n",
      "30000 : tensor(0.2755, device='cuda:1', grad_fn=<MseLossBackward0>)\n",
      "31000 : tensor(0.4588, device='cuda:1', grad_fn=<MseLossBackward0>)\n",
      "32000 : tensor(0.3056, device='cuda:1', grad_fn=<MseLossBackward0>)\n",
      "33000 : tensor(0.4575, device='cuda:1', grad_fn=<MseLossBackward0>)\n",
      "34000 : tensor(0.2975, device='cuda:1', grad_fn=<MseLossBackward0>)\n",
      "35000 : tensor(0.2494, device='cuda:1', grad_fn=<MseLossBackward0>)\n",
      "36000 : tensor(0.3281, device='cuda:1', grad_fn=<MseLossBackward0>)\n",
      "37000 : tensor(0.2478, device='cuda:1', grad_fn=<MseLossBackward0>)\n",
      "38000 : tensor(0.2532, device='cuda:1', grad_fn=<MseLossBackward0>)\n",
      "39000 : tensor(0.2575, device='cuda:1', grad_fn=<MseLossBackward0>)\n",
      "40000 : tensor(0.2699, device='cuda:1', grad_fn=<MseLossBackward0>)\n",
      "41000 : tensor(0.2482, device='cuda:1', grad_fn=<MseLossBackward0>)\n",
      "42000 : tensor(0.2560, device='cuda:1', grad_fn=<MseLossBackward0>)\n",
      "43000 : tensor(0.2505, device='cuda:1', grad_fn=<MseLossBackward0>)\n",
      "44000 : tensor(0.2463, device='cuda:1', grad_fn=<MseLossBackward0>)\n",
      "45000 : tensor(0.2484, device='cuda:1', grad_fn=<MseLossBackward0>)\n",
      "46000 : tensor(0.2490, device='cuda:1', grad_fn=<MseLossBackward0>)\n",
      "47000 : tensor(0.2497, device='cuda:1', grad_fn=<MseLossBackward0>)\n",
      "48000 : tensor(0.2422, device='cuda:1', grad_fn=<MseLossBackward0>)\n",
      "49000 : tensor(0.2798, device='cuda:1', grad_fn=<MseLossBackward0>)\n",
      "50000 : tensor(0.2487, device='cuda:1', grad_fn=<MseLossBackward0>)\n",
      "51000 : tensor(0.2767, device='cuda:1', grad_fn=<MseLossBackward0>)\n",
      "52000 : tensor(0.2725, device='cuda:1', grad_fn=<MseLossBackward0>)\n",
      "53000 : tensor(0.2574, device='cuda:1', grad_fn=<MseLossBackward0>)\n",
      "54000 : tensor(0.2494, device='cuda:1', grad_fn=<MseLossBackward0>)\n",
      "55000 : tensor(0.4402, device='cuda:1', grad_fn=<MseLossBackward0>)\n",
      "56000 : tensor(0.2604, device='cuda:1', grad_fn=<MseLossBackward0>)\n",
      "57000 : tensor(0.2660, device='cuda:1', grad_fn=<MseLossBackward0>)\n",
      "58000 : tensor(0.2511, device='cuda:1', grad_fn=<MseLossBackward0>)\n",
      "59000 : tensor(0.2734, device='cuda:1', grad_fn=<MseLossBackward0>)\n",
      "60000 : tensor(0.2959, device='cuda:1', grad_fn=<MseLossBackward0>)\n",
      "61000 : tensor(0.2644, device='cuda:1', grad_fn=<MseLossBackward0>)\n",
      "62000 : tensor(0.2452, device='cuda:1', grad_fn=<MseLossBackward0>)\n",
      "63000 : tensor(0.2441, device='cuda:1', grad_fn=<MseLossBackward0>)\n",
      "64000 : tensor(0.3051, device='cuda:1', grad_fn=<MseLossBackward0>)\n",
      "65000 : tensor(0.2444, device='cuda:1', grad_fn=<MseLossBackward0>)\n",
      "66000 : tensor(0.2670, device='cuda:1', grad_fn=<MseLossBackward0>)\n",
      "67000 : tensor(0.3729, device='cuda:1', grad_fn=<MseLossBackward0>)\n",
      "68000 : tensor(0.2785, device='cuda:1', grad_fn=<MseLossBackward0>)\n",
      "69000 : tensor(0.2445, device='cuda:1', grad_fn=<MseLossBackward0>)\n",
      "70000 : tensor(0.3510, device='cuda:1', grad_fn=<MseLossBackward0>)\n",
      "71000 : tensor(0.2491, device='cuda:1', grad_fn=<MseLossBackward0>)\n",
      "72000 : tensor(0.2716, device='cuda:1', grad_fn=<MseLossBackward0>)\n",
      "73000 : tensor(0.2736, device='cuda:1', grad_fn=<MseLossBackward0>)\n",
      "74000 : tensor(0.2512, device='cuda:1', grad_fn=<MseLossBackward0>)\n",
      "75000 : tensor(0.2681, device='cuda:1', grad_fn=<MseLossBackward0>)\n",
      "76000 : tensor(0.2640, device='cuda:1', grad_fn=<MseLossBackward0>)\n",
      "77000 : tensor(0.2469, device='cuda:1', grad_fn=<MseLossBackward0>)\n",
      "78000 : tensor(0.2439, device='cuda:1', grad_fn=<MseLossBackward0>)\n",
      "79000 : tensor(0.2420, device='cuda:1', grad_fn=<MseLossBackward0>)\n",
      "80000 : tensor(0.2547, device='cuda:1', grad_fn=<MseLossBackward0>)\n",
      "81000 : tensor(0.2541, device='cuda:1', grad_fn=<MseLossBackward0>)\n",
      "82000 : tensor(0.2495, device='cuda:1', grad_fn=<MseLossBackward0>)\n",
      "83000 : tensor(0.2844, device='cuda:1', grad_fn=<MseLossBackward0>)\n",
      "84000 : tensor(0.2841, device='cuda:1', grad_fn=<MseLossBackward0>)\n",
      "85000 : tensor(0.2599, device='cuda:1', grad_fn=<MseLossBackward0>)\n",
      "86000 : tensor(0.2535, device='cuda:1', grad_fn=<MseLossBackward0>)\n",
      "87000 : tensor(0.3065, device='cuda:1', grad_fn=<MseLossBackward0>)\n",
      "88000 : tensor(0.2601, device='cuda:1', grad_fn=<MseLossBackward0>)\n",
      "89000 : tensor(0.2726, device='cuda:1', grad_fn=<MseLossBackward0>)\n",
      "90000 : tensor(0.2960, device='cuda:1', grad_fn=<MseLossBackward0>)\n",
      "91000 : tensor(0.2767, device='cuda:1', grad_fn=<MseLossBackward0>)\n",
      "92000 : tensor(0.2743, device='cuda:1', grad_fn=<MseLossBackward0>)\n",
      "93000 : tensor(0.2765, device='cuda:1', grad_fn=<MseLossBackward0>)\n",
      "94000 : tensor(0.2393, device='cuda:1', grad_fn=<MseLossBackward0>)\n",
      "95000 : tensor(0.2827, device='cuda:1', grad_fn=<MseLossBackward0>)\n",
      "96000 : tensor(0.2449, device='cuda:1', grad_fn=<MseLossBackward0>)\n",
      "97000 : tensor(0.2404, device='cuda:1', grad_fn=<MseLossBackward0>)\n",
      "98000 : tensor(0.2785, device='cuda:1', grad_fn=<MseLossBackward0>)\n",
      "99000 : tensor(0.2715, device='cuda:1', grad_fn=<MseLossBackward0>)\n",
      "0\n",
      "Hidden Layer N is completed.\n"
     ]
    },
    {
     "data": {
      "image/png": "[encoded data removed]",
      "text/plain": [
       "<Figure size 360x360 with 1 Axes>"
      ]
     },
     "metadata": {
      "needs_background": "light"
     },
     "output_type": "display_data"
    },
    {
     "data": {
      "image/png": "[encoded data removed]",
      "text/plain": [
       "<Figure size 360x360 with 1 Axes>"
      ]
     },
     "metadata": {
      "needs_background": "light"
     },
     "output_type": "display_data"
    }
   ],
   "source": [
    "N_options = [10, 100]\n",
    "t = 1000\n",
    "\n",
    "for n in N_options:\n",
    "    N=n\n",
    "    model = Model(N)\n",
    "    model.to('cuda:1')\n",
    "    criterion = nn.MSELoss().to('cuda:1')\n",
    "    optimizer = torch.optim.SGD(model.parameters(), lr = 0.01)\n",
    "    for epoch in range (t*N):\n",
    "        data_point = choice(data)\n",
    "        inp = data_point[0]\n",
    "        y = data_point[1]\n",
    "        loss = criterion(model(inp), y)\n",
    "        loss.backward()\n",
    "        optimizer.step()\n",
    "        optimizer.zero_grad()\n",
    "        \n",
    "        if epoch%1000 == 0:\n",
    "            print(epoch, \":\", loss)\n",
    "            \n",
    "    parameters = []\n",
    "    j = 0\n",
    "    for m in model.modules():\n",
    "        if isinstance(m, nn.Linear):\n",
    "            a = m.weight.reshape(-1)\n",
    "            for i in range(len(a)):\n",
    "                parameters.append(float(a[i].data))\n",
    "            if j%1000 == 0:\n",
    "                print(j)\n",
    "            j+=1\n",
    "    \n",
    "    ax = sns.displot(parameters, stat = 'probability', kde = False)\n",
    "    hidden_layers = str(N)\n",
    "    ax.savefig(\"Tanh Sim Dataset: N=%s.png\" % hidden_layers)\n",
    "    print(\"Hidden Layer N is completed.\")"
   ]
  },
  {
   "cell_type": "code",
   "execution_count": null,
   "metadata": {},
   "outputs": [],
   "source": []
  }
 ],
 "metadata": {
  "kernelspec": {
   "display_name": "Python 3 (ipykernel)",
   "language": "python",
   "name": "python3"
  },
  "language_info": {
   "codemirror_mode": {
    "name": "ipython",
    "version": 3
   },
   "file_extension": ".py",
   "mimetype": "text/x-python",
   "name": "python",
   "nbconvert_exporter": "python",
   "pygments_lexer": "ipython3",
   "version": "3.11.3"
  }
 },
 "nbformat": 4,
 "nbformat_minor": 4
}
