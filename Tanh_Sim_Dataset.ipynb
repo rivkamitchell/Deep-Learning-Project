{
 "cells": [
  {
   "cell_type": "code",
   "execution_count": null,
   "metadata": {},
   "outputs": [],
   "source": [
    "import torch\n",
    "import torch.nn as nn\n",
    "import torchvision\n",
    "from torchvision.transforms import Compose, ToTensor, Normalize\n",
    "import numpy as np\n",
    "import seaborn as sns\n",
    "from random import choice\n",
    "import math"
   ]
  },
  {
   "cell_type": "code",
   "execution_count": null,
   "metadata": {},
   "outputs": [],
   "source": [
    "def output_func(x):\n",
    "    if np.sum(np.matmul(x,np.transpose(x))) >= math.sqrt(2/math.pi):\n",
    "        return [0,1]\n",
    "    else:\n",
    "        return [1,0]"
   ]
  },
  {
   "cell_type": "code",
   "execution_count": null,
   "metadata": {},
   "outputs": [],
   "source": [
    "x = [np.random.uniform(low = 0, high = 1, size = 2) for i in range(1000)]\n",
    "y = [output_func(u) for u in x]\n",
    "data = [[torch.Tensor(x[i]).to('cuda:1'), torch.Tensor(y[i]).to('cuda:1')] for i in range(1000)]"
   ]
  },
  {
   "cell_type": "code",
   "execution_count": null,
   "metadata": {},
   "outputs": [],
   "source": [
    "dim_x, dim_y, dim_h, N = 2, 2, 4, 100\n",
    "\n",
    "class Base(nn.Module):\n",
    "    def __init__(self):\n",
    "        super(Base, self).__init__()\n",
    "        self.l1 = nn.Linear(dim_x, dim_h, bias = False)\n",
    "        self.l2 = nn.Linear(dim_h, dim_y, bias = False)\n",
    "    def forward(self, x):\n",
    "        return (self.l2(torch.tanh(self.l1(x))))\n",
    "    \n",
    "class Model(nn.Module):\n",
    "    def __init__(self, N):\n",
    "        super(Model, self).__init__()\n",
    "        self.layers = nn.ModuleList([Base() for i in range(N)])\n",
    "    def forward(self, x):\n",
    "        s = 0 \n",
    "        for net in self.layers:\n",
    "            s += net(x)\n",
    "        return s/len(self.layers)"
   ]
  },
  {
   "cell_type": "code",
   "execution_count": null,
   "metadata": {},
   "outputs": [],
   "source": [
    "N_options = [10, 100]\n",
    "t = 1000\n",
    "\n",
    "for n in N_options:\n",
    "    N=n\n",
    "    model = Model(N)\n",
    "    model.to('cuda:1')\n",
    "    criterion = nn.MSELoss().to('cuda:1')\n",
    "    optimizer = torch.optim.SGD(model.parameters(), lr = 0.01)\n",
    "    for epoch in range (t*N):\n",
    "        data_point = choice(data)\n",
    "        inp = data_point[0]\n",
    "        y = data_point[1]\n",
    "        loss = criterion(model(inp), y)\n",
    "        loss.backward()\n",
    "        optimizer.step()\n",
    "        optimizer.zero_grad()\n",
    "        \n",
    "        if epoch%1000 == 0:\n",
    "            print(epoch, \":\", loss)\n",
    "            \n",
    "    parameters = []\n",
    "    j = 0\n",
    "    for m in model.modules():\n",
    "        if isinstance(m, nn.Linear):\n",
    "            a = m.weight.reshape(-1)\n",
    "            for i in range(len(a)):\n",
    "                parameters.append(float(a[i].data))\n",
    "            if j%1000 == 0:\n",
    "                print(j)\n",
    "            j+=1\n",
    "    \n",
    "    ax = sns.displot(parameters, stat = 'probability', kde = False)\n",
    "    hidden_layers = str(N)\n",
    "    ax.savefig(\"Tanh Sim Dataset: N=%s.png\" % hidden_layers)\n",
    "    print(\"Hidden Layer N is completed.\")"
   ]
  },
  {
   "cell_type": "code",
   "execution_count": null,
   "metadata": {},
   "outputs": [],
   "source": []
  }
 ],
 "metadata": {
  "kernelspec": {
   "display_name": "Python 3 (ipykernel)",
   "language": "python",
   "name": "python3"
  },
  "language_info": {
   "codemirror_mode": {
    "name": "ipython",
    "version": 3
   },
   "file_extension": ".py",
   "mimetype": "text/x-python",
   "name": "python",
   "nbconvert_exporter": "python",
   "pygments_lexer": "ipython3",
   "version": "3.11.3"
  }
 },
 "nbformat": 4,
 "nbformat_minor": 4
}
